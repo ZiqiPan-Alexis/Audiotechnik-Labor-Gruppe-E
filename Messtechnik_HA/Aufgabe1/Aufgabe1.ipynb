{
 "cells": [
  {
   "cell_type": "markdown",
   "metadata": {
    "deletable": false,
    "editable": false,
    "nbgrader": {
     "cell_type": "markdown",
     "checksum": "f040a3a76f0037eecb79846d2df20445",
     "grade": false,
     "grade_id": "preamble",
     "locked": true,
     "schema_version": 3,
     "solution": false,
     "task": false
    }
   },
   "source": [
    "# Vorwort\n",
    "Die folgenden Programmieraufgaben sind *vor* der Versuchsdurchführung zu lösen. In der Hausaufgabe werden Sie Funktionen definieren und eine Messkette programmieren, die Sie dann in der Versuchsdurchführung und -auswertung nutzen werden.\n",
    "\n",
    "Es ist empfehlenswert, sich für das AT-Labor ein Python-Environment anzulegen.\n",
    "Das Elektroakustik-Environment kann weiterbenutzt werden. Es muss nur das Paket `waveform-analysis` nachinstalliert werden:\n",
    "\n",
    "```\n",
    "pip install git+https://github.com/endolith/waveform-analysis.git@master\n",
    "```\n",
    "\n",
    "Alternativ kann ein neues Environment angelegt werden:\n",
    "\n",
    "1. [Anaconda](https://anaconda.org) installieren \n",
    "2. Terminal (Linux, Mac) oder Anaconda Prompt (Windows) starten\n",
    "3. Environment erstellen und aktivieren\n",
    "    ```\n",
    "    conda create --name atlabor python numpy ipykernel matplotlib pandas\n",
    "    conda activate atlabor\n",
    "\n",
    "    ```\n",
    "4. Zusätzliche Pakete installieren (conda zuerst, danach pip)\n",
    "    ```\n",
    "    conda install -c conda-forge ipympl\n",
    "    pip install sounddevice pyfar git+https://github.com/endolith/waveform-analysis.git@master\n",
    "    \n",
    "    ```\n",
    "\n",
    "`ipykernel` für Jupyter notebooks, `ipympl` für widget plots in notebooks (nicht benötigt aber praktisch), `sounddevice` für audio playback, `scipy` und `pyfar` für Signalanalyse/DSP, `pandas` zum Betrachten von Variablen in VS Code, `waveform-analysis` für A-Bewertung.\n",
    "\n",
    "\n",
    "Für Aufgabe 3 wird eine aktuelle Version von `pyfar` benötigt. Falls Sie ein vorhandenes Environment benutzen, updaten Sie das Paket mit dem Befehl\n",
    "\n",
    "        pip install pyfar --upgrade\n",
    "\n",
    "\n",
    "<div class=\"admonition important alert alert-block alert-warning\">\n",
    "<p>⚠️ <strong>WICHTIG:</strong></p>\n",
    "<p>\n",
    "Die Auswertung der Programmieraufgaben erfolgt halbautomatisiert. Deswegen ist es wichtig, dass die Datei nur in den gekennzeichneten Bereichen verändert wird. Alle Anderen Zellen sollen unberührt bleiben. Bitte keine Zellen löschen oder neue Zellen hinzufügen. Insbesondere die mit <code># Diese Zelle bitte NICHT verändern</code> markierten Zellen dienen der Auswertung und dürfen <strong>nicht</strong> verändert werden. Einige der darin befindlichen Tests sind aus dem Dokument entfernt, andere Testzellen wurden bewusst im Dokument gelassen und können gerne zur Prüfung des eigenen Codes ausgeführt (aber nicht verändert) werden.\n",
    "</p></div>\n",
    "\n",
    "* Weisen Sie die Werte Ihrer Lösungen den in den Aufgabenstellungen genannten Variablennamen zu, falls angegeben. \n",
    "* Fügen Sie die Lösung von Python-Aufgaben immer in dem Bereich\n",
    "\n",
    "        # ============= Ihre Lösung hier ===============\n",
    "        raise NotImplementedError('Diese Zeile Löschen')\n",
    "        # ==============================================\n",
    "\n",
    "    ein (Löschen Sie die Zeile, die den `NotImplementedError` erzeugt).\n",
    "* Fügen Sie Erläuterungen und Diskussionen immer in den folgenden Bereichen ein:\n",
    "\n",
    "  ---\n",
    "  _Ihre Lösung hier:_\n",
    "       \n",
    "       \n",
    "  ---\n",
    "\n",
    "* Ignorieren Sie alle leeren, schreibgeschützten Zellen.\n",
    "* Zellen mit Tests (s.u.) dienen der Selbstkontrolle. Wenn diese Zellen beim Ausführen einen Fehler auswerfen, wurde die Aufgabe nicht richtig gelöst. Bitte verändern Sie **nicht** den Inhalt der Testzellen.\n",
    "\n",
    "        ### BEGIN TESTS\n",
    "        assert( x == y )\n",
    "        assert isinstance(x, pf.Signal)\n",
    "        ### END TESTS"
   ]
  },
  {
   "cell_type": "code",
   "execution_count": 1,
   "metadata": {
    "deletable": false,
    "editable": false,
    "nbgrader": {
     "cell_type": "code",
     "checksum": "d5a6523ce11e2856edaff9b63718d6e9",
     "grade": false,
     "grade_id": "t1-imports",
     "locked": true,
     "schema_version": 3,
     "solution": false,
     "task": false
    }
   },
   "outputs": [
    {
     "name": "stdout",
     "output_type": "stream",
     "text": [
      "pyfar version: 0.7.3\n"
     ]
    }
   ],
   "source": [
    "import numpy as np\n",
    "import pyfar as pf\n",
    "import waveform_analysis as wa\n",
    "import matplotlib.pyplot as plt\n",
    "from typing import Union\n",
    "import ast\n",
    "import inspect\n",
    "%config InlineBackend.figure_format='retina'\n",
    "\n",
    "def contains_for_loop(func):\n",
    "    # This function checks if a function contains a for loop\n",
    "    tree = ast.parse(func)\n",
    "    for node in ast.walk(tree):\n",
    "        if isinstance(node, ast.For):\n",
    "            return True\n",
    "    return False\n",
    "\n",
    "print(f'pyfar version: {pf.__version__}')"
   ]
  },
  {
   "cell_type": "markdown",
   "metadata": {
    "deletable": false,
    "editable": false,
    "nbgrader": {
     "cell_type": "markdown",
     "checksum": "dff113d98214b1010dd8b7a3f8b6d172",
     "grade": false,
     "grade_id": "t1-intro",
     "locked": true,
     "schema_version": 3,
     "solution": false,
     "task": false
    }
   },
   "source": [
    "# 1 Anregesignale, Spektren und Signaleigenschaften \n",
    "\n",
    "In dieser Aufgabe sollen drei verschiedene zeitdiskrete Signale generiert werden. Unterschiedliche Spektrendarstellungen und Signalcharakteristika sollen verglichen werden."
   ]
  },
  {
   "cell_type": "markdown",
   "metadata": {
    "deletable": false,
    "editable": false,
    "nbgrader": {
     "cell_type": "markdown",
     "checksum": "1fb08dd44f28b666428d741cc5e1192b",
     "grade": false,
     "grade_id": "t-1-1",
     "locked": true,
     "schema_version": 3,
     "solution": false,
     "task": false
    }
   },
   "source": [
    "## 1.1 Sinussignal (1P)\n",
    "Erzeugen Sie mit `pyfar` ein Sinussignal `sn` mit der Frequenz $f = 1 \\,\\mathrm{kHz}$, mit der Abtastfrequenz $f_\\mathrm{s} = 48 \\,\\mathrm{kHz}$, mit einer Länge $N = 96001$ Samples und Amplitude $1$.\n",
    "\n",
    "Benutzen Sie [pf.signals.sine()](https://pyfar.readthedocs.io/en/latest/modules/pyfar.signals.html#pyfar.signals.sine)"
   ]
  },
  {
   "cell_type": "code",
   "execution_count": 2,
   "metadata": {
    "deletable": false,
    "nbgrader": {
     "cell_type": "code",
     "checksum": "7ec19888fb3931819dda76cd7608cecb",
     "grade": false,
     "grade_id": "t-1-solution",
     "locked": false,
     "schema_version": 3,
     "solution": true,
     "task": false
    }
   },
   "outputs": [],
   "source": [
    "fs = 48000                        # Abtastfrequenz\n",
    "N = 96001                         # Anzahl Samples\n",
    "\n",
    "# ============= Ihre Lösung hier ===============\n",
    "f = 1_000\n",
    "fs = 48_000\n",
    "N = 96_001\n",
    "A = 1\n",
    "sn = pf.signals.sine(frequency=f, n_samples=N, amplitude=A, sampling_rate=fs)\n",
    "# =============================================="
   ]
  },
  {
   "cell_type": "code",
   "execution_count": 3,
   "metadata": {
    "deletable": false,
    "editable": false,
    "nbgrader": {
     "cell_type": "code",
     "checksum": "3ae79c07b6f29fc90446c2e3f8f28986",
     "grade": true,
     "grade_id": "t-1-1-test",
     "locked": false,
     "points": 1,
     "schema_version": 3,
     "solution": false,
     "task": false
    }
   },
   "outputs": [],
   "source": [
    "# Diese Zelle bitte NICHT verändern\n",
    "### BEGIN TESTS\n",
    "assert 'sn' in locals()\n",
    "assert isinstance(sn, pf.Signal)\n",
    "assert sn.n_samples == N\n",
    "assert sn.sampling_rate == 48000\n",
    "assert sn.time[0,0] == 0\n",
    "assert sn.time.shape == (1, N)\n",
    "assert np.isclose(np.max(sn.time), 1.0)\n",
    "assert np.isclose(np.min(sn.time), -1.0)\n",
    "### END TESTS"
   ]
  },
  {
   "cell_type": "markdown",
   "metadata": {
    "deletable": false,
    "editable": false,
    "nbgrader": {
     "cell_type": "markdown",
     "checksum": "d21982249e8ac798804d0899a90627a8",
     "grade": false,
     "grade_id": "t-1-2",
     "locked": true,
     "schema_version": 3,
     "solution": false,
     "task": false
    }
   },
   "source": [
    "## 1.2 Weißes Rauschen (1P)\n",
    "Erzeugen Sie mit `pyfar` ein Signal `wn` mit weißem Rauschen, mit der Abtastfrequenz $f_\\mathrm{s} = 48\\,\\mathrm{kHz}$, mit einem rms-Wert von $0.1$, mit einer Länge $N = 96001$ Samples.\n",
    "\n",
    "Benutzen Sie [`pf.signals.noise()`](https://pyfar.readthedocs.io/en/latest/modules/pyfar.signals.html#pyfar.signals.noise), zur Rekonstruierbarkeit der Ergebnisse mit `seed=1`"
   ]
  },
  {
   "cell_type": "code",
   "execution_count": 4,
   "metadata": {
    "deletable": false,
    "nbgrader": {
     "cell_type": "code",
     "checksum": "2d7698cc8db1045be31c442f217f7f30",
     "grade": false,
     "grade_id": "t-1-2-solution",
     "locked": false,
     "schema_version": 3,
     "solution": true,
     "task": false
    }
   },
   "outputs": [],
   "source": [
    "# ============= Ihre Lösung hier ===============\n",
    "rms = 0.1\n",
    "wn = pf.signals.noise(n_samples=N, spectrum=\"white\", rms=rms, sampling_rate=fs, seed=1)\n",
    "# =============================================="
   ]
  },
  {
   "cell_type": "code",
   "execution_count": 5,
   "metadata": {
    "deletable": false,
    "editable": false,
    "nbgrader": {
     "cell_type": "code",
     "checksum": "5dde532a094456623aa9ff28e8df8fc3",
     "grade": true,
     "grade_id": "t-1-2-test",
     "locked": false,
     "points": 1,
     "schema_version": 3,
     "solution": false,
     "task": false
    }
   },
   "outputs": [],
   "source": [
    "# Diese Zelle bitte NICHT verändern\n",
    "### BEGIN TESTS\n",
    "assert 'wn' in locals()\n",
    "assert isinstance(wn, pf.Signal)\n",
    "assert wn.n_samples == N\n",
    "assert sn.sampling_rate == 48000\n",
    "assert np.isclose(pf.dsp.rms(wn) , 0.1, atol=1e-13)\n",
    "assert np.isclose(np.std(wn.time), 0.0999988673923, atol=1e-13), f'Expected 0.0999988673923, but got {np.std(wn.time)}. Did you use the correct seed?'\n",
    "### END TESTS"
   ]
  },
  {
   "cell_type": "markdown",
   "metadata": {
    "deletable": false,
    "editable": false,
    "nbgrader": {
     "cell_type": "markdown",
     "checksum": "c69affa4dd49ca0ec83bd77c73d9d942",
     "grade": false,
     "grade_id": "t-1-3",
     "locked": true,
     "schema_version": 3,
     "solution": false,
     "task": false
    }
   },
   "source": [
    "## 1.3 Rosa Rauschen (1P)\n",
    "Erzeugen Sie mit `pyfar` ein Signal `pn` mit rosa Rauschen (pink noise), mit der Abtastfrequenz $f_\\mathrm{s} = 48 \\,\\mathrm{kHz}$, mit einem rms-Wert von $0.1$, mit einer Länge $N = 96001$ Samples.\n",
    "\n",
    "Benutzen Sie [pf.signals.noise()](https://pyfar.readthedocs.io/en/latest/modules/pyfar.signals.html#pyfar.signals.noise), zur Rekonstruierbarkeit der Ergebnisse mit `seed=1`."
   ]
  },
  {
   "cell_type": "code",
   "execution_count": 6,
   "metadata": {
    "deletable": false,
    "nbgrader": {
     "cell_type": "code",
     "checksum": "720f83e9af5ddc9347803b8b4a4557c9",
     "grade": false,
     "grade_id": "t-1-3-solution",
     "locked": false,
     "schema_version": 3,
     "solution": true,
     "task": false
    }
   },
   "outputs": [],
   "source": [
    "# ============= Ihre Lösung hier ===============\n",
    "pn = pf.signals.noise(n_samples=N, spectrum=\"pink\", rms=rms, sampling_rate=fs, seed=1)\n",
    "# =============================================="
   ]
  },
  {
   "cell_type": "code",
   "execution_count": 7,
   "metadata": {
    "deletable": false,
    "editable": false,
    "nbgrader": {
     "cell_type": "code",
     "checksum": "41261f4868785aee28ccc60e5b946fae",
     "grade": true,
     "grade_id": "t-1-3-tests",
     "locked": false,
     "points": 1,
     "schema_version": 3,
     "solution": false,
     "task": false
    }
   },
   "outputs": [],
   "source": [
    "# Diese Zelle bitte NICHT verändern\n",
    "### BEGIN TESTS\n",
    "assert 'pn' in locals()\n",
    "assert isinstance(sn, pf.Signal)\n",
    "assert pn.n_samples == N, f'Expected {N}, but got {pn.n_samples}'\n",
    "assert sn.sampling_rate == 48000, f'Expected 48000, but got {sn.sampling_rate}'\n",
    "assert np.isclose(pf.dsp.rms(pn) , 0.1, atol=1e-3), f'Expected 0.1, but got {pf.dsp.rms(pn)}'\n",
    "assert np.isclose(np.std(pn.time), 0.09479637869466993, atol=1e-14), f'Expected 0.09479637869466993, but got {np.std(pn.time)}. Did you use the correct seed?'\n",
    "### END TESTS"
   ]
  },
  {
   "cell_type": "markdown",
   "metadata": {
    "deletable": false,
    "editable": false,
    "nbgrader": {
     "cell_type": "markdown",
     "checksum": "8e54753288763038d36b1e3e849050dd",
     "grade": false,
     "grade_id": "t-1-4",
     "locked": true,
     "schema_version": 3,
     "solution": false,
     "task": false
    }
   },
   "source": [
    "## 1.4 Effektivwert (2P)\n",
    "Schreiben Sie eine Funktion `rms(x)`, die für jeden Kanal $i$ den Effektivwert (rms, root mean square) berechnet. Der rms-Wert des $i$-ten Kanals ist definiert als:\n",
    "\n",
    "$$ \\mathrm{rms}(x_i) = \\sqrt{\\mathrm{mean}(x_i^2)} = \\sqrt{\\frac{1}{N} \\sum_{k=0}^{N-1} x_i[k]^2}$$\n",
    "$x_{i}[k]$ ist das $k$-te Sample des $i$-ten Kanals. $N$ steht für die Gesamtzahl der Samples.\n",
    "\n",
    "**Hinweis:** Benutzen Sie die Funktionen `np.sqrt()` und `np.mean(..., axis=...)` (oder `np.sum()`). Benutzen Sie **keine** for-Schleifen zur kanalweisen Berechnung, sondern nutzen Sie den `axis`-Parameter bei der Mittelwertberechnung. Benutzen Sie **nicht** die Funktion `pf.dsp.rms()`.\n",
    "\n",
    "**Tipp:** In `pf.Signal.time` Arrays wird die Zeitachse immer in der *letzten* Dimension des Arrays gespeichert. Mit `axis=-1` wählen Sie die letzte Array-Dimension aus. "
   ]
  },
  {
   "cell_type": "code",
   "execution_count": null,
   "metadata": {
    "deletable": false,
    "nbgrader": {
     "cell_type": "code",
     "checksum": "b537df3746a25cebc063641ca1db8500",
     "grade": false,
     "grade_id": "t-1-4-solution",
     "locked": false,
     "schema_version": 3,
     "solution": true,
     "task": false
    }
   },
   "outputs": [],
   "source": [
    "def rms(x: Union[pf.Signal, np.array]) -> np.array: # Hier sehen Sie Type Hints für die Eingabe und Ausgabe. Es wird entweder ein pyfar Signal oder ein Numpy Array erwartet, zurückgegeben wird ein Numpy Array.\n",
    "    if isinstance(x, pf.Signal):\n",
    "        x = x.time # pf.Signal in Numpy Array umwandeln\n",
    "\n",
    "    # Aus dem Numpy Array den Effektivwert x_rms kanalweise berechnen:\n",
    "    # ============= Ihre Lösung hier ===============\n",
    "    raise NotImplementedError('Diese Zeile Löschen')\n",
    "    # ==============================================\n",
    "\n",
    "    if x_rms.shape == (1,):\n",
    "        return x_rms.item() # Falls nur ein Wert berechnet wird, Skalarwert x_rms statt array([x_rms]) zurückgeben\n",
    "    return x_rms # rms werte zurückgeben"
   ]
  },
  {
   "cell_type": "code",
   "execution_count": null,
   "metadata": {
    "deletable": false,
    "editable": false,
    "nbgrader": {
     "cell_type": "code",
     "checksum": "4a0e307a34a3257b6135559732b0ead2",
     "grade": true,
     "grade_id": "t-1-4-tests",
     "locked": false,
     "points": 2,
     "schema_version": 3,
     "solution": false,
     "task": false
    }
   },
   "outputs": [],
   "source": [
    "# Diese Zelle bitte NICHT verändern\n",
    "### BEGIN TESTS\n",
    "# Hinweis: Mehrkanälige Pyfar Signale können z.B. erzeugt werden, indem Arrays als Inputvariablen benutzt werden:\n",
    "amplitudes = np.arange(6).reshape(2,-1)\n",
    "\n",
    "x_test = pf.signals.sine(frequency=1, amplitude=amplitudes, n_samples=fs, sampling_rate=fs)\n",
    "assert np.allclose(rms(x_test), pf.dsp.rms(x_test)), f'Expected\\n{pf.dsp.rms(x_test)}, but got\\n{rms(x_test)}'\n",
    "assert np.allclose(rms(x_test.time), pf.dsp.rms(x_test)), f'Expected\\n{pf.dsp.rms(x_test)}, but got\\n{rms(x_test.time)}'\n",
    "assert rms(x_test).shape == amplitudes.shape, f'Expected{pf.dsp.rms(x_test).shape} but got {rms(x_test).shape}'\n",
    "assert not contains_for_loop(inspect.getsource(rms)), 'The function rms contains a for loop, which is not allowed.'\n",
    "del x_test\n",
    "### END TESTS"
   ]
  },
  {
   "cell_type": "markdown",
   "metadata": {
    "deletable": false,
    "editable": false,
    "nbgrader": {
     "cell_type": "markdown",
     "checksum": "f4d942d1517ca937a967011294cbd007",
     "grade": false,
     "grade_id": "t-1-5",
     "locked": true,
     "schema_version": 3,
     "solution": false,
     "task": false
    }
   },
   "source": [
    "## 1.5 Maximalwert (2P)\n",
    "Schreiben Sie eine Funktion `peak()`, die `pf.Signal` Objekte annimmt und für jeden Kanal $i$ den maximalen Absolutwert des Signals berechnet:\n",
    "\n",
    "$$ \\mathrm{peak}(x_i) = \\max{(|x_i|)}$$\n",
    "\n",
    "**Hinweis:** Achten Sie darauf, den Maximalwert jedes Kanals separat zu berechnen, und nicht den insgesamt auftretenden Maximalwert. Benutzen Sie **keine** for-Schleifen zur kanalweisen Berechnung, sondern z.B. den `axis`-Parameter in `np.max()`."
   ]
  },
  {
   "cell_type": "code",
   "execution_count": null,
   "metadata": {
    "deletable": false,
    "nbgrader": {
     "cell_type": "code",
     "checksum": "9619a5023f00e2938b8155abb0005fad",
     "grade": false,
     "grade_id": "t-1-5-solution",
     "locked": false,
     "schema_version": 3,
     "solution": true,
     "task": false
    }
   },
   "outputs": [],
   "source": [
    "def peak(x: Union[pf.Signal, np.array]) -> np.array:\n",
    "    if isinstance(x, pf.Signal):\n",
    "        x = x.time # Signal in Numpy Array umwandeln\n",
    "\n",
    "    # Aus dem Numpy Array den maximalen Absolutwert x_peak für jeden Kanal berechnen:\n",
    "    # ============= Ihre Lösung hier ===============\n",
    "    raise NotImplementedError('Diese Zeile Löschen')\n",
    "    # ==============================================\n",
    "\n",
    "\n",
    "    if x_peak.shape == (1,):\n",
    "        return x_peak.item() # Falls nur ein Wert berechnet wird, Skalarwert statt array zurückgeben\n",
    "    return x_peak # rms werte zurückgeben"
   ]
  },
  {
   "cell_type": "code",
   "execution_count": null,
   "metadata": {
    "deletable": false,
    "editable": false,
    "nbgrader": {
     "cell_type": "code",
     "checksum": "f9d58b39400df3c6924c9919be1c1669",
     "grade": true,
     "grade_id": "t-1-5-tests",
     "locked": false,
     "points": 2,
     "schema_version": 3,
     "solution": false,
     "task": false
    }
   },
   "outputs": [],
   "source": [
    "# Diese Zelle bitte NICHT verändern\n",
    "### BEGIN TESTS\n",
    "# assert np.isclose(peak(sn), 1), f'Expected 1, but got {peak(sn)}'\n",
    "amplitudes = np.arange(6.0).reshape(2, -1)\n",
    "x_test = pf.signals.sine(frequency=1, amplitude=np.arange(6).reshape(2, -1), n_samples=fs, sampling_rate=fs)\n",
    "assert np.allclose(peak(x_test), np.array([[0., 1., 2.],\n",
    "                                           [3., 4., 5.]])), f'Expected\\n{amplitudes}, but got\\n{peak(x_test)}'\n",
    "assert peak(x_test).shape == x_test.cshape, f'Expected{pf.dsp.peak(x_test).shape} but got {peak(x_test).shape}'\n",
    "assert not contains_for_loop(inspect.getsource(peak)), \"The function 'peak' contains a for loop, which is not allowed.\"\n",
    "### END TESTS\n"
   ]
  },
  {
   "cell_type": "markdown",
   "metadata": {
    "deletable": false,
    "editable": false,
    "nbgrader": {
     "cell_type": "markdown",
     "checksum": "99f6911339a452b94afbb8c5136d9ec3",
     "grade": false,
     "grade_id": "t-1-15",
     "locked": true,
     "schema_version": 3,
     "solution": false,
     "task": false
    }
   },
   "source": [
    "## 1.6 A-Bewertung (2P)\n",
    "\n",
    "Schreiben Sie eine Funktion `A_weighting()`, die `pf.Signal` Objekte annimmt und die A-Bewertung auf jeden Kanal anwendet.\n",
    "Lesen Sie die Zeitdaten aus dem Signal aus und wenden Sie das A-Bewertungsfilter mithilfe der Funktion `wa.A_weight(signal=..., fs=...)` auf das Signal an.\n",
    "Benutzen Sie **keine** for-Schleifen zur kanalweisen Berechnung.\n",
    "\n",
    "**Hinweis:** Genau wie Ihre Funktion `rms()` erwartet die Funktion `wa.A-weight`, dass die letzte Array-Dimension der Zeitdaten die Zeitachse enthält."
   ]
  },
  {
   "cell_type": "code",
   "execution_count": null,
   "metadata": {
    "deletable": false,
    "nbgrader": {
     "cell_type": "code",
     "checksum": "3df6ef5d26c1e839e6aea3587c40a580",
     "grade": false,
     "grade_id": "a-weighting-solution",
     "locked": false,
     "schema_version": 3,
     "solution": true,
     "task": false
    }
   },
   "outputs": [],
   "source": [
    "def A_weighting(x: pf.Signal) -> pf.Signal:\n",
    "    # Zeitdaten auslesen und als Numpy Array speichern:\n",
    "    # ============= Ihre Lösung hier ===============\n",
    "    raise NotImplementedError('Diese Zeile Löschen')\n",
    "    # ==============================================\n",
    "\n",
    "    # A-Gewichtungsfilter auf Zeitdaten anwenden:\n",
    "    # ============= Ihre Lösung hier ===============\n",
    "    raise NotImplementedError('Diese Zeile Löschen')\n",
    "    # ==============================================\n",
    "\n",
    "    # A-gewichtete Signale in pyfar Signal 'result' umwandeln:\n",
    "    # ============= Ihre Lösung hier ===============\n",
    "    raise NotImplementedError('Diese Zeile Löschen')\n",
    "    # ==============================================\n",
    "\n",
    "    return x_weighted # A-gewichtetes Signal zurückgeben\n"
   ]
  },
  {
   "cell_type": "code",
   "execution_count": null,
   "metadata": {
    "deletable": false,
    "editable": false,
    "nbgrader": {
     "cell_type": "code",
     "checksum": "8cf492998d0a9c3d5ea943e76bff27cb",
     "grade": true,
     "grade_id": "a-weighting-tests",
     "locked": true,
     "points": 2,
     "schema_version": 3,
     "solution": false,
     "task": false
    }
   },
   "outputs": [],
   "source": [
    "### BEGIN TESTS\n",
    "assert np.isclose(rms(A_weighting(sn)), 0.707409, atol=1e-6), f\"Expected 0.707409, got {rms(A_weighting(sn))}\"\n",
    "assert np.isclose(rms(A_weighting(wn)), 0.065721, atol=1e-6), f\"Expected 0.065721, got {rms(A_weighting(wn))}\"\n",
    "assert np.isclose(rms(A_weighting(pn)), 0.055864, atol=1e-6), f\"Expected 0.055864, got {rms(A_weighting(pn))}\"\n",
    "\n",
    "x_test = pf.signals.sine(frequency=[10, 100, 1000, 10000], amplitude=1, n_samples=fs, sampling_rate=fs)\n",
    "assert np.allclose(rms(A_weighting(x_test)), [4.37923083e-04, 7.80315344e-02, 0.707360237, 4.61635329e-01], atol=1e-9), f\"Expected [4.37923083e-04, 7.80315344e-02, 0.707360237, 4.61635329e-01], got {rms(A_weighting(x_test))}\"\n",
    "assert not contains_for_loop(inspect.getsource(A_weighting)), \"The function 'A_weighting' contains a for loop, which is not allowed.\"\n",
    "### END TESTS"
   ]
  },
  {
   "cell_type": "markdown",
   "metadata": {
    "deletable": false,
    "editable": false,
    "nbgrader": {
     "cell_type": "markdown",
     "checksum": "e305f95fe31ec1f388f1a4a5893bd296",
     "grade": false,
     "grade_id": "t-1-7",
     "locked": true,
     "schema_version": 3,
     "solution": false,
     "task": false
    }
   },
   "source": [
    "## 1.7 Pegel in dBFS (1P)\n",
    "Schreiben Sie eine Funktion `dBFS()`, die numpy-Arrays und Skalare als Funktionswerte annimmt und komponentenweise deren Pegel in dBFS berechnet:\n",
    "\n",
    "$$ L_\\mathrm{x} = 20 \\cdot \\log_{10} (|x|) \\, \\mathrm{dBFS}$$"
   ]
  },
  {
   "cell_type": "code",
   "execution_count": null,
   "metadata": {
    "deletable": false,
    "nbgrader": {
     "cell_type": "code",
     "checksum": "353bbfc1d2122a2c0eb95c593273c187",
     "grade": false,
     "grade_id": "t-1-7-solution",
     "locked": false,
     "schema_version": 3,
     "solution": true,
     "task": false
    }
   },
   "outputs": [],
   "source": [
    "def dBFS(x: Union[np.array, float]) -> Union[np.array, float]:\n",
    "    # Pegel L_x in dBFS berechnen:\n",
    "    # ============= Ihre Lösung hier ===============\n",
    "    raise NotImplementedError('Diese Zeile Löschen')\n",
    "    # ==============================================\n",
    "\n",
    "    return L_x"
   ]
  },
  {
   "cell_type": "code",
   "execution_count": null,
   "metadata": {
    "deletable": false,
    "editable": false,
    "nbgrader": {
     "cell_type": "code",
     "checksum": "0e35fead79636cd377d6f36b45b87925",
     "grade": true,
     "grade_id": "t-1-7-tests",
     "locked": false,
     "points": 1,
     "schema_version": 3,
     "solution": false,
     "task": false
    }
   },
   "outputs": [],
   "source": [
    "# Diese Zelle bitte NICHT verändern\n",
    "### BEGIN TESTS\n",
    "assert(dBFS(1) == 0), f'Expected 0, but got {dBFS(1)}'\n",
    "assert(np.allclose(dBFS(np.array([1, -0.1, 0.01])),\n",
    "                        np.array([0,  -20,  -40]))), f'Expected [0, -20, -40], but got {dBFS(np.array([1, -0.1, 0.01]))}'\n",
    "### END TESTS"
   ]
  },
  {
   "cell_type": "markdown",
   "metadata": {
    "deletable": false,
    "editable": false,
    "nbgrader": {
     "cell_type": "markdown",
     "checksum": "533d98ade55aa51b74eab43394e9078e",
     "grade": false,
     "grade_id": "t-1-9",
     "locked": true,
     "schema_version": 3,
     "solution": false,
     "task": false
    }
   },
   "source": [
    "## 1.8 Spektrum (2P)\n",
    "Stellen Sie die auf **Amplituden** normierten Betragsspektren aller Signale mittels `pf.plot.freq()` dar.\n",
    "Achten Sie auf korrekte Achsenbeschriftungen und fügen Sie eine Legende ein.\n",
    "(1P)\n",
    "\n",
    "**Hinweis:** Um die Betragsspektren auf Amplituden zu normieren, setzen Sie das `fftnorm`-Attribut der Signale.\n",
    "Alle Einstellmöglichkeiten der Normalisierung sind [hier](https://pyfar.readthedocs.io/en/latest/modules/pyfar.dsp.fft.html#pyfar.dsp.fft.normalization) aufgelistet und erklärt.\n",
    "Dort finden Sie auch die korrekte Option für Amplitudennormierung."
   ]
  },
  {
   "cell_type": "code",
   "execution_count": null,
   "metadata": {
    "deletable": false,
    "nbgrader": {
     "cell_type": "code",
     "checksum": "a12300bdaabfc76c2536f43473b3a331",
     "grade": true,
     "grade_id": "t-1-9-solution",
     "locked": false,
     "points": 0.5,
     "schema_version": 3,
     "solution": true,
     "task": false
    }
   },
   "outputs": [],
   "source": [
    "# ============= Ihre Lösung hier ===============\n",
    "raise NotImplementedError('Diese Zeile Löschen')\n",
    "# =============================================="
   ]
  },
  {
   "cell_type": "code",
   "execution_count": null,
   "metadata": {
    "deletable": false,
    "editable": false,
    "nbgrader": {
     "cell_type": "code",
     "checksum": "13c59630f21325b3390b93252fe59a6f",
     "grade": true,
     "grade_id": "t-1-9-tests",
     "locked": false,
     "points": 0.5,
     "schema_version": 3,
     "solution": false,
     "task": false
    }
   },
   "outputs": [],
   "source": [
    "# Diese Zelle bitte NICHT verändern\n",
    "### BEGIN TESTS\n",
    "assert(sn.fft_norm != 'rms')\n",
    "assert(wn.fft_norm != 'rms')\n",
    "assert(pn.fft_norm != 'rms')\n",
    "### END TESTS"
   ]
  },
  {
   "cell_type": "markdown",
   "metadata": {
    "deletable": false,
    "nbgrader": {
     "cell_type": "markdown",
     "checksum": "fca582b12f5d504a7b5403ce7550f460",
     "grade": true,
     "grade_id": "t-1-10-solution",
     "locked": false,
     "points": 1,
     "schema_version": 3,
     "solution": true,
     "task": false
    }
   },
   "source": [
    "### Verständnisfragen (1P):\n",
    "\n",
    "1. Warum entsteht beim Sinussignal kein unendlich schmaler Peak?\n",
    "2. Beschreiben Sie den Unterschied der beiden Rauschspektren.\n",
    "\n",
    "---\n",
    "_Ihre Lösung hier:_\n",
    "\n",
    "\n",
    "---"
   ]
  },
  {
   "cell_type": "markdown",
   "metadata": {
    "deletable": false,
    "editable": false,
    "nbgrader": {
     "cell_type": "markdown",
     "checksum": "f99f8b62723645eed38ceba7d398c082",
     "grade": false,
     "grade_id": "t-1-11",
     "locked": true,
     "schema_version": 3,
     "solution": false,
     "task": false
    }
   },
   "source": [
    "## 1.9 Fensterung (3P)\n",
    "Fenstern Sie das Sinussignal mit drei verschiedenen Fenstern auf **exakt** 1 Sekunde Länge, also auf $N = 48000$ Samples. Nutzen Sie dafür die Funktion `pf.dsp.time_window()`. Kürzen Sie das Signal mit dem Funktionsparameter `crop` auf die Länge des Fensters. (1P)\n",
    "\n",
    "1. Benutzen Sie ein Dreieck-Fenster und nennen Sie die Variable `sn_tri`\n",
    "\n",
    "2. Benutzen Sie ein Hann-Fenster und nennen Sie die Variable `sn_han`\n",
    "\n",
    "3. Benutzen Sie ein Rechteck-Fenster (boxcar) und nennen Sie die Variable `sn_box`\n",
    "\n",
    "Verifizieren Sie, dass die Signale die richtige Länge haben. Plotten Sie die Spektren des ungefensterten Signals und aller drei gefensterten Signale in einem gemeinsamen Plot, normiert auf Sinusamplituden. Skalieren Sie die $y$-Achse auf den Bereich (-300, 10) dBFS. Fügen Sie eine Legende ein. (1P)\n",
    "\n",
    "**Tipp:** Mit `pf.plot.freq(..., alpha=0.8)` können Sie die Plots transparent machen. So stellen Sie sicher, dass immer alle Linien sichtbar sind.\n"
   ]
  },
  {
   "cell_type": "code",
   "execution_count": null,
   "metadata": {
    "deletable": false,
    "nbgrader": {
     "cell_type": "code",
     "checksum": "8831bad62457ef2aed7070b989e8e527",
     "grade": true,
     "grade_id": "t-1-11-solution",
     "locked": false,
     "points": 1,
     "schema_version": 3,
     "solution": true,
     "task": false
    }
   },
   "outputs": [],
   "source": [
    "# Fensterung:\n",
    "# ============= Ihre Lösung hier ===============\n",
    "raise NotImplementedError('Diese Zeile Löschen')\n",
    "# ==============================================\n",
    "\n",
    "# Plot:\n",
    "# ============= Ihre Lösung hier ===============\n",
    "raise NotImplementedError('Diese Zeile Löschen')\n",
    "# =============================================="
   ]
  },
  {
   "cell_type": "code",
   "execution_count": null,
   "metadata": {
    "deletable": false,
    "editable": false,
    "nbgrader": {
     "cell_type": "code",
     "checksum": "73e1eb076954b765eaeb76e2cb17413f",
     "grade": true,
     "grade_id": "t-1-11-tests",
     "locked": false,
     "points": 1,
     "schema_version": 3,
     "solution": false,
     "task": false
    }
   },
   "outputs": [],
   "source": [
    "# Diese Zelle bitte NICHT verändern\n",
    "### BEGIN TESTS\n",
    "for name in ['sn_box', 'sn_tri', 'sn_han']:\n",
    "    assert name in locals()\n",
    "for i in [sn_box, sn_tri, sn_han]:\n",
    "    assert(i.fft_norm == 'amplitude')\n",
    "    assert(i.n_samples == fs )\n",
    "### END TESTS"
   ]
  },
  {
   "cell_type": "markdown",
   "metadata": {
    "deletable": false,
    "nbgrader": {
     "cell_type": "markdown",
     "checksum": "66afaa50b5a87a5aebb82acdb4064327",
     "grade": true,
     "grade_id": "t-1-11-solution2",
     "locked": false,
     "points": 1,
     "schema_version": 3,
     "solution": true,
     "task": false
    }
   },
   "source": [
    "#### Verständnisfragen (1P)\n",
    "\n",
    "1. Beschreiben Sie die qualitativen Unterschiede zwischen den Spektren. \n",
    "\n",
    "2. Welches Fenster eignet sich in diesem Fall am besten?\n",
    "\n",
    "3. Grundfrequenz und Amplitude des untersuchten Signals sind bekannt und konstant. Welches Fenster würde sich am besten eignen, wenn das Signal nicht bekannt wäre?\n",
    "\n",
    "---\n",
    "_Ihre Lösung hier:_\n",
    "\n",
    "\n",
    "---"
   ]
  },
  {
   "cell_type": "markdown",
   "metadata": {
    "deletable": false,
    "editable": false,
    "nbgrader": {
     "cell_type": "markdown",
     "checksum": "3288a1566bbafe42f7b6064a1d674597",
     "grade": false,
     "grade_id": "t-1-13",
     "locked": true,
     "schema_version": 3,
     "solution": false,
     "task": false
    }
   },
   "source": [
    "## 1.10 Gain-Korrektur der Fensterung (3P)\n",
    "Neben den in der letzten Aufgabe beobachteten qualitativen Effekten reduziert die Fensterung allgemein auch die Energie (rms-Werte) der Signale sowie die Amplituden im Betragsspektrum.\n",
    "\n",
    "Soll die Energie oder Amplitude eines gefensterten Signals berechnet werden, muss dieser Effekt kompensiert werden.\n",
    "\n",
    "Bestimmen Sie den Amplituden- und den Energie-Korrekturfaktor (Amplitude Correction Factor `ACF`, Energy Correction Factor `ECF`) des Hann-Fensters, um den durch die Fensterung verursachten Verlust in Amplitude bzw. Energie auszugleichen.\n",
    "\n",
    "1. Betrachten Sie das Sinus-Signal `sn`.\n",
    "\n",
    "2. Fenstern Sie das Signal erneut mit einem Hann-Fenster. Fenstern Sie das gesamte Signal, d.h. verwenden Sie das erste und letzte Sample des Signals als Fenstergrenzen. Geben Sie mit `return_window=True` auch das Fenster zurück.\n",
    "\n",
    "3. Berechnen Sie den Amplituden-Korrekturfaktor des Hann-Fensters (Kehrwert des arithmetischen Mittels der Zeitdaten des Fensters) und speichern Sie ihn in der Variable `ACF_hann`.\n",
    "\n",
    "4. Berechnen Sie den Energie-Korrekturfaktor des Hann-Fensters (Kehrwert des rms-Wertes der Zeitdaten des Fensters) und speichern Sie ihn in der Variable `ECF_hann`.\n",
    "\n",
    "5. Berechnen Sie die rms-Werte des ungefensterten und des um den Energie-Korrekturfaktor korrigierten gefensterten Signals (jeweils in dBFS) und speichern Sie diese in den Variablen `sn_dBFS_rms` und `sn_hann_dBFS_rms`. Stellen Sie sicher, dass beide Werte übereinstimmen.\n",
    "\n",
    "6. Stellen Sie die Zeitdaten und Spektren des ungefensterten sowie des um den Amplituden-Korrekturfaktor korrigierten gefensterten Signals in gemeinsamen Plots dar. Stellen Sie sicher, dass die Amplituden der Spektren beider Signale bei 1000 Hz exakt übereinstimmen."
   ]
  },
  {
   "cell_type": "code",
   "execution_count": null,
   "metadata": {
    "deletable": false,
    "nbgrader": {
     "cell_type": "code",
     "checksum": "44fde491f4865cbebea176ae24181267",
     "grade": true,
     "grade_id": "t-1-13-solution",
     "locked": false,
     "points": 1,
     "schema_version": 3,
     "solution": true,
     "task": false
    }
   },
   "outputs": [],
   "source": [
    "# Fensterkorrekturfaktoren berechnen:\n",
    "# ============= Ihre Lösung hier ===============\n",
    "raise NotImplementedError('Diese Zeile Löschen')\n",
    "# ==============================================\n",
    "\n",
    "print(f'Amplituden-Korrekturfaktor: {ACF_hann:.3f}\\nEnergie-Korrekturfaktor: {ECF_hann:.3f}')\n",
    "\n",
    "# rms-Pegel vergleichen:\n",
    "# ============= Ihre Lösung hier ===============\n",
    "raise NotImplementedError('Diese Zeile Löschen')\n",
    "# ==============================================\n",
    "\n",
    "print(f'rms-Werte:\\nUngefenstertes Signal: {sn_dBFS_rms:.2f} dBFS\\nGefenstertes Signal: {sn_hann_dBFS_rms:.2f} dBFS\\n')\n",
    "\n",
    "# FFT-Amplituden vergleichen:\n",
    "# ============= Ihre Lösung hier ===============\n",
    "raise NotImplementedError('Diese Zeile Löschen')\n",
    "# =============================================="
   ]
  },
  {
   "cell_type": "code",
   "execution_count": null,
   "metadata": {
    "deletable": false,
    "editable": false,
    "nbgrader": {
     "cell_type": "code",
     "checksum": "890c4f4820e47261777cd42eb07f79dc",
     "grade": true,
     "grade_id": "window-correction-tests",
     "locked": true,
     "points": 2,
     "schema_version": 3,
     "solution": false,
     "task": false
    }
   },
   "outputs": [],
   "source": [
    "# Diese Zelle bitte NICHT verändern\n",
    "### BEGIN TESTS\n",
    "for name in ['ACF_hann', 'ECF_hann', 'sn_dBFS_rms', 'sn_hann_dBFS_rms']:\n",
    "    assert(name in locals())\n",
    "assert(np.isclose(sn_dBFS_rms, -3.01, atol=0.0005)), f'Expected -3.01, but got {sn_dBFS_rms}'\n",
    "assert(np.isclose(sn_hann_dBFS_rms, -3.01, atol=0.0005)), f'Expected -3.01, but got {sn_hann_dBFS_rms}'\n",
    "### END TESTS"
   ]
  }
 ],
 "metadata": {
  "kernelspec": {
   "display_name": "atlabor",
   "language": "python",
   "name": "python3"
  },
  "language_info": {
   "codemirror_mode": {
    "name": "ipython",
    "version": 3
   },
   "file_extension": ".py",
   "mimetype": "text/x-python",
   "name": "python",
   "nbconvert_exporter": "python",
   "pygments_lexer": "ipython3",
   "version": "3.13.9"
  }
 },
 "nbformat": 4,
 "nbformat_minor": 4
}
