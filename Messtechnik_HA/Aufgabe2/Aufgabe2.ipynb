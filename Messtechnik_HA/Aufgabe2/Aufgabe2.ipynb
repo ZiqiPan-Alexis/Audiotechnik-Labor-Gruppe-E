{
 "cells": [
  {
   "cell_type": "markdown",
   "metadata": {
    "deletable": false,
    "editable": false,
    "nbgrader": {
     "cell_type": "markdown",
     "checksum": "33bc502488bc8183835fdd032155854b",
     "grade": false,
     "grade_id": "preamble",
     "locked": true,
     "schema_version": 3,
     "solution": false,
     "task": false
    }
   },
   "source": [
    "<div class=\"admonition important alert alert-block alert-warning\">\n",
    "<p>⚠️ <strong>WICHTIG:</strong></p>\n",
    "<p>\n",
    "Die Auswertung der Programmieraufgaben erfolgt halbautomatisiert. Deshalb ist es wichtig, dass die Datei nur in den gekennzeichneten Bereichen verändert wird. Alle anderen Zellen sollen unberührt bleiben. Bitte keine Zellen löschen oder neue Zellen hinzufügen. Insbesondere die mit <code># Diese Zelle bitte NICHT verändern</code> markierten Zellen dienen der Auswertung und dürfen <strong>nicht</strong> verändert werden. Einige der darin befindlichen Tests sind aus dem Dokument entfernt, andere Testzellen wurden bewusst im Dokument gelassen und können gerne zur Prüfung des eigenen Codes ausgeführt (aber nicht verändert) werden.\n",
    "</p></div>"
   ]
  },
  {
   "cell_type": "code",
   "execution_count": null,
   "metadata": {
    "deletable": false,
    "editable": false,
    "nbgrader": {
     "cell_type": "code",
     "checksum": "c4aed35a961f92614418efc8b0205ad9",
     "grade": false,
     "grade_id": "t2-imports",
     "locked": true,
     "schema_version": 3,
     "solution": false,
     "task": false
    }
   },
   "outputs": [],
   "source": [
    "import numpy as np\n",
    "import pyfar as pf\n",
    "import matplotlib.pyplot as plt\n",
    "%config InlineBackend.figure_format='retina'"
   ]
  },
  {
   "cell_type": "markdown",
   "metadata": {
    "deletable": false,
    "editable": false,
    "nbgrader": {
     "cell_type": "markdown",
     "checksum": "b03d780fb80871b28e25b2ce5341d62a",
     "grade": false,
     "grade_id": "t2-intro",
     "locked": true,
     "schema_version": 3,
     "solution": false,
     "task": false
    }
   },
   "source": [
    "# 2 Eigenschaften eines LTI-Systems\n",
    "\n",
    "In dieser Aufgabe werden Sie Impulsantwort und Frequenzgang eines LTI-Systems durch Entfaltung eines bandbegrenzten Sinus-Sweeps bestimmen."
   ]
  },
  {
   "cell_type": "markdown",
   "metadata": {
    "deletable": false,
    "editable": false,
    "nbgrader": {
     "cell_type": "markdown",
     "checksum": "688f96cecc851aeb7bbbd1797076ecf9",
     "grade": false,
     "grade_id": "t-2-1",
     "locked": true,
     "schema_version": 3,
     "solution": false,
     "task": false
    }
   },
   "source": [
    "# 2.1 Input- und Outputsignal (2P)\n",
    "Laden Sie die Dateien `system_input.wav` und `system_output.wav` mit `pf.io.read_audio` in die Variablen `system_input` und `system_output`. Stellen Sie beide Signale in einem gemeinsamen `pf.plot.time_freq()` Plot dar. Fügen Sie eine Legende ein. (2P)"
   ]
  },
  {
   "cell_type": "code",
   "execution_count": null,
   "metadata": {
    "deletable": false,
    "nbgrader": {
     "cell_type": "code",
     "checksum": "c74afcf8b25c859ea0f572552f4d8603",
     "grade": true,
     "grade_id": "t-2-1-solution",
     "locked": false,
     "points": 1,
     "schema_version": 3,
     "solution": true,
     "task": false
    }
   },
   "outputs": [],
   "source": [
    "# ============= Ihre Lösung hier ===============\n",
    "raise NotImplementedError('Diese Zeile Löschen')\n",
    "# =============================================="
   ]
  },
  {
   "cell_type": "code",
   "execution_count": null,
   "metadata": {
    "deletable": false,
    "editable": false,
    "nbgrader": {
     "cell_type": "code",
     "checksum": "c29072cbb008cd7a71ff6e6a07f2ee98",
     "grade": true,
     "grade_id": "t-2-1-tests",
     "locked": false,
     "points": 1,
     "schema_version": 3,
     "solution": false,
     "task": false
    }
   },
   "outputs": [],
   "source": [
    "# Diese Zelle bitte NICHT verändern\n",
    "### BEGIN TESTS\n",
    "assert isinstance(system_input, pf.Signal)\n",
    "assert isinstance(system_output, pf.Signal)\n",
    "assert system_input.n_samples  == 44100, f'Expected 44100, got {system_input.n_samples}'\n",
    "assert system_output.n_samples == 66150, f'Expected 66150, got {system_output.n_samples}'\n",
    "assert np.isclose(pf.dsp.rms(system_input), 0.35416082), f'Expected 0.35416082, got {pf.dsp.rms(system_input)}'\n",
    "assert np.isclose(pf.dsp.rms(system_output), 0.19811174), f'Expected 0.19811174, got {pf.dsp.rms(system_output)}'\n",
    "### END TESTS"
   ]
  },
  {
   "cell_type": "markdown",
   "metadata": {
    "deletable": false,
    "editable": false,
    "nbgrader": {
     "cell_type": "markdown",
     "checksum": "78b000e7aceac22d30d778845c861d15",
     "grade": false,
     "grade_id": "t-2-2",
     "locked": true,
     "schema_version": 3,
     "solution": false,
     "task": false
    }
   },
   "source": [
    "# 2.2 Sweep-Entfaltung (4P)\n",
    "Bestimmen Sie die Impulsantwort des Systems durch Entfaltung des Ein- und Ausgangssignals. Benutzen Sie `pf.dsp.deconvolve()` und speichern Sie die Impulsantwort in der Variable `ir`. Stellen Sie die Impulsantwort im Zeit- und Frequenzbereich dar. (2P)"
   ]
  },
  {
   "cell_type": "code",
   "execution_count": null,
   "metadata": {
    "deletable": false,
    "nbgrader": {
     "cell_type": "code",
     "checksum": "29e7a751027003a871fc77d6a7a55241",
     "grade": true,
     "grade_id": "t-2-2-solution",
     "locked": false,
     "points": 1,
     "schema_version": 3,
     "solution": true,
     "task": false
    }
   },
   "outputs": [],
   "source": [
    "# ============= Ihre Lösung hier ===============\n",
    "raise NotImplementedError('Diese Zeile Löschen')\n",
    "# =============================================="
   ]
  },
  {
   "cell_type": "code",
   "execution_count": null,
   "metadata": {
    "deletable": false,
    "editable": false,
    "nbgrader": {
     "cell_type": "code",
     "checksum": "83fa5a6b13f160cf2c505bf5a444630e",
     "grade": true,
     "grade_id": "t-2-2-tests",
     "locked": false,
     "points": 1,
     "schema_version": 3,
     "solution": false,
     "task": false
    }
   },
   "outputs": [],
   "source": [
    "# Diese Zelle bitte NICHT verändern\n",
    "### BEGIN TESTS\n",
    "assert isinstance(ir, pf.Signal)\n",
    "assert ir.n_samples == 66150, f'Expected 66150, got {ir.n_samples}'\n",
    "assert(np.isclose(pf.dsp.rms(ir), 0.0276089)), f'Expected 0.0276089, got {pf.dsp.rms(ir)}'\n",
    "### END TESTS"
   ]
  },
  {
   "cell_type": "markdown",
   "metadata": {
    "deletable": false,
    "nbgrader": {
     "cell_type": "markdown",
     "checksum": "e58a3456fba475ead5016a9091e9218a",
     "grade": true,
     "grade_id": "t-2-2-3",
     "locked": false,
     "points": 2,
     "schema_version": 3,
     "solution": true,
     "task": false
    }
   },
   "source": [
    "Beschreiben Sie die Impulsantwort und ihr Spektrum. Was fällt Ihnen auf? Betrachten Sie das Spektrum des Eingangssignals.\n",
    "Wo funktioniert die Entfaltung nicht, und warum? (2P)\n",
    "\n",
    "---\n",
    "_Ihre Lösung hier:_\n",
    "\n",
    "\n",
    "---"
   ]
  },
  {
   "cell_type": "markdown",
   "metadata": {
    "deletable": false,
    "editable": false,
    "nbgrader": {
     "cell_type": "markdown",
     "checksum": "b39ad87d302846f7b1c28c614dd5656f",
     "grade": false,
     "grade_id": "t-2-3",
     "locked": true,
     "schema_version": 3,
     "solution": false,
     "task": false
    }
   },
   "source": [
    "# 2.3 Regularisierte Entfaltung (4P)\n",
    "Benutzen Sie nun regularisierte Entfaltung, indem Sie der Funktion `pf.dsp.deconvolve` den Parameter `frequency_range` übergeben. Wählen Sie den Frequenzbereich so, dass Sie eine sinnvoll aussehende Impulsantwort erhalten. Speichern Sie die regularisierte Impulsantwort in der Variable `ir_regu`. Stellen Sie `ir` und `ir_regu` in einem gemeinsamen Plot im Zeit- und Frequenzbereich dar. Fügen Sie eine Legende ein. (2P)"
   ]
  },
  {
   "cell_type": "code",
   "execution_count": null,
   "metadata": {
    "deletable": false,
    "nbgrader": {
     "cell_type": "code",
     "checksum": "7e9fe4ec4f8d0773c4f076bd55884b65",
     "grade": true,
     "grade_id": "t-2-3-solution",
     "locked": false,
     "points": 2,
     "schema_version": 3,
     "solution": true,
     "task": false
    }
   },
   "outputs": [],
   "source": [
    "# ============= Ihre Lösung hier ===============\n",
    "raise NotImplementedError('Diese Zeile Löschen')\n",
    "# =============================================="
   ]
  },
  {
   "cell_type": "markdown",
   "metadata": {
    "deletable": false,
    "nbgrader": {
     "cell_type": "markdown",
     "checksum": "b014347d16b4f7e1af1cf9cc61986593",
     "grade": true,
     "grade_id": "t-2-3-2",
     "locked": false,
     "points": 2,
     "schema_version": 3,
     "solution": true,
     "task": false
    }
   },
   "source": [
    "Beschreiben Sie die Unterschiede zwischen den beiden Impulsantworten und deren Spektren. Mit welcher Strategie haben Sie `frequency_range` gewählt? (2P)\n",
    "\n",
    "---\n",
    "_Ihre Lösung hier:_\n",
    "\n",
    "\n",
    "---"
   ]
  }
 ],
 "metadata": {
  "language_info": {
   "codemirror_mode": {
    "name": "ipython"
   },
   "file_extension": ".py",
   "mimetype": "text/x-python",
   "name": "python",
   "nbconvert_exporter": "python"
  }
 },
 "nbformat": 4,
 "nbformat_minor": 4
}
