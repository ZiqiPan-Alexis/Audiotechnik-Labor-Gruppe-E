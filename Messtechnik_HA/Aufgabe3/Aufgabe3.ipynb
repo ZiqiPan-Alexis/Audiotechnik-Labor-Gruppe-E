{
 "cells": [
  {
   "cell_type": "markdown",
   "metadata": {
    "deletable": false,
    "editable": false,
    "nbgrader": {
     "cell_type": "markdown",
     "checksum": "33bc502488bc8183835fdd032155854b",
     "grade": false,
     "grade_id": "preamble",
     "locked": true,
     "schema_version": 3,
     "solution": false,
     "task": false
    }
   },
   "source": [
    "<div class=\"admonition important alert alert-block alert-warning\">\n",
    "<p>⚠️ <strong>WICHTIG:</strong></p>\n",
    "<p>\n",
    "Die Auswertung der Programmieraufgaben erfolgt halbautomatisiert. Deshalb ist es wichtig, dass die Datei nur in den gekennzeichneten Bereichen verändert wird. Alle anderen Zellen sollen unberührt bleiben. Bitte keine Zellen löschen oder neue Zellen hinzufügen. Insbesondere die mit <code># Diese Zelle bitte NICHT verändern</code> markierten Zellen dienen der Auswertung und dürfen <strong>nicht</strong> verändert werden. Einige der darin befindlichen Tests sind aus dem Dokument entfernt, andere Testzellen wurden bewusst im Dokument gelassen und können gerne zur Prüfung des eigenen Codes ausgeführt (aber nicht verändert) werden.\n",
    "</p></div>"
   ]
  },
  {
   "cell_type": "code",
   "execution_count": null,
   "metadata": {
    "deletable": false,
    "editable": false,
    "nbgrader": {
     "cell_type": "code",
     "checksum": "f7b550b47004d4253c570fba36f5dd9a",
     "grade": false,
     "grade_id": "imports",
     "locked": true,
     "schema_version": 3,
     "solution": false,
     "task": false
    }
   },
   "outputs": [],
   "source": [
    "import numpy as np\n",
    "import pyfar as pf\n",
    "import scipy.signal as sig\n",
    "import matplotlib.pyplot as plt\n",
    "import ast\n",
    "import inspect\n",
    "%config InlineBackend.figure_format='retina'\n",
    "\n",
    "def contains_for_loop(func):\n",
    "    # This function checks if a function contains a for loop\n",
    "    tree = ast.parse(func)\n",
    "    for node in ast.walk(tree):\n",
    "        if isinstance(node, ast.For):\n",
    "            return True\n",
    "    return False\n",
    "\n",
    "print(f'pyfar version: {pf.__version__}')\n",
    "version, minor_version, patch = pf.__version__.split('.')\n",
    "if int(minor_version) < 6:\n",
    "    print('If your version of pyfar does not support notch filters yet, update with \"pip install pyfar --upgrade\"')"
   ]
  },
  {
   "cell_type": "markdown",
   "metadata": {
    "deletable": false,
    "editable": false,
    "nbgrader": {
     "cell_type": "markdown",
     "checksum": "e13bbdcacfe484e1acedd5aee5bda247",
     "grade": false,
     "grade_id": "t3-1",
     "locked": true,
     "schema_version": 3,
     "solution": false,
     "task": false
    }
   },
   "source": [
    "# 3 Eigenschaften eines nichtlinearen Systems\n",
    "\n",
    "# 3.1 $\\mathrm{THD_R}$ (4P)\n",
    "Schreiben Sie eine Funktion `thd_r(x, f_0)`, die `pf.Signal` Objekte annimmt und für jeden Kanal den auf den Effektivwert des **Gesamtsignals** bezogenen Klirrfaktor $\\mathrm{THD_{R,\\%}}$ in Prozent berechnet. Der auf das Gesamtsignal bezogene Klirrfaktor ist definiert als\n",
    "\n",
    "$$ \\text{THD}_\\mathrm{R,\\%} =  \\frac{\\sqrt{\\sum_{k=2}^{n}U_{kf}^2}}{U_\\text{ges}} \\cdot 100\\, \\%.$$\n",
    "\n",
    "$U_{kf}$: Effektive (rms) Spannung beim $k$-fachen der Anregefrequenz $f$ ($k$-te Harmonische) <br />\n",
    "$U_\\mathrm{ges}$: Effektive (rms) Spannung des Gesamtsignals\n",
    "\n",
    "Dabei sollen alle Harmonischen benutzt werden, die kleiner als die Nyquist-Frequenz $f_\\mathrm{s}/2$ sind. Mit der in der Funktion definierten Eingangsvariable `f_0` ist die Anregefrequenz $f$ gemeint.\n",
    "\n",
    "Gehen Sie wie folgt vor:\n",
    "\n",
    "1. Setzen Sie die `fft_norm` von `x` auf rms-Normalisierung.\n",
    "\n",
    "2. Bestimmen Sie die Frequenzen aller Harmonischen, die kleiner als die Nyquistfrequenz $f_\\mathrm{s}/2$ sind. Benutzen Sie z.B. `np.arange()`.\n",
    "\n",
    "3. Bestimmen Sie die Indizes der Frequenzbins von `x`, die den Frequenzen der Harmonischen entsprechen. Benutzen Sie z.B. `x.find_nearest_frequency()`.\n",
    "\n",
    "4. Berechnen Sie kanalweise die **Beträge** der rms-Amplituden an den Frequenzstützstellen, die den Harmonischen entsprechen (benutzen Sie `x.freq[...]` mit den korrekten Indizes). **Hinweis:** In `x.freq` ist das komplexe Spektrum mit Phaseninformationen gespeichert. Für die rms-Amplituden ist nur der Betrag relevant.\n",
    "\n",
    "5. Bestimmen Sie kanalweise die rms-Amplitude des Gesamtsignals (**nicht** in dB). Benutzen Sie z.B. `pf.dsp.rms()`.\n",
    "\n",
    "6. Berechnen Sie kanalweise den Klirrfaktor $\\mathrm{THD_R}$ und speichern Sie die Werte in der Variable `thd_r`.\n",
    "\n",
    "**Hinweis:** Benutzen Sie für die kanalweise Berechnung **keine** for-Schleifen. Die benötigten Pyfar-Funktionen arbeiten automatisch kanalweise. Die kanalweise Summierung der Spannungen der Harmonischen können Sie z.B. mit `np.sum(...,axis=...)` erledigen."
   ]
  },
  {
   "cell_type": "code",
   "execution_count": null,
   "metadata": {
    "deletable": false,
    "nbgrader": {
     "cell_type": "code",
     "checksum": "fa2b0dc25a835c461d1da83592d1b21e",
     "grade": false,
     "grade_id": "t3-1-solution",
     "locked": false,
     "schema_version": 3,
     "solution": true,
     "task": false
    }
   },
   "outputs": [],
   "source": [
    "def thd_r(x: pf.Signal, f_0: float):\n",
    "    # fft norm von x auf 'rms' setzen:\n",
    "    # ============= Ihre Lösung hier ===============\n",
    "    raise NotImplementedError('Diese Zeile Löschen')\n",
    "    # ==============================================\n",
    "\n",
    "    # Frequenzen aller Harmonischen, die kleiner als Nyquistfrequenz sind:\n",
    "    # ============= Ihre Lösung hier ===============\n",
    "    raise NotImplementedError('Diese Zeile Löschen')\n",
    "    # ==============================================\n",
    "\n",
    "    # Indizes der Frequenzbins der Harmonischen:\n",
    "    # ============= Ihre Lösung hier ===============\n",
    "    raise NotImplementedError('Diese Zeile Löschen')\n",
    "    # ==============================================\n",
    "\n",
    "    # rms-Amplituden bei Harmonischen (NICHT in dB):\n",
    "    # ============= Ihre Lösung hier ===============\n",
    "    raise NotImplementedError('Diese Zeile Löschen')\n",
    "    # ==============================================\n",
    "\n",
    "    # Beträge der rms-Amplidude des Gesamtsignals (NICHT in dB):\n",
    "    # (hier können Sie pf.dsp.rms() benutzen)\n",
    "    # ============= Ihre Lösung hier ===============\n",
    "    raise NotImplementedError('Diese Zeile Löschen')\n",
    "    # ==============================================\n",
    "\n",
    "    # THD_R berechnen und in Variable thd_r speichern:\n",
    "    # ============= Ihre Lösung hier ===============\n",
    "    raise NotImplementedError('Diese Zeile Löschen')\n",
    "    # ==============================================\n",
    "\n",
    "    if thd_r.shape == (1,):\n",
    "        # Falls nur ein Wert berechnet wird, Skalarwert thd_r statt array([thd_r]) zurückgeben\n",
    "        return thd_r.item()\n",
    "    return thd_r  # thd_r Werte zurückgeben"
   ]
  },
  {
   "cell_type": "code",
   "execution_count": null,
   "metadata": {
    "deletable": false,
    "editable": false,
    "nbgrader": {
     "cell_type": "code",
     "checksum": "fd16ce79ce59c3d3dd4644711ac00a73",
     "grade": true,
     "grade_id": "t-3-1-tests",
     "locked": false,
     "points": 3,
     "schema_version": 3,
     "solution": false,
     "task": false
    }
   },
   "outputs": [],
   "source": [
    "# Diese Zelle bitte NICHT verändern\n",
    "### BEGIN TESTS\n",
    "assert not contains_for_loop(inspect.getsource(thd_r)), \"The function contains a for loop, which is not allowed.\"\n",
    "\n",
    "f_test = 10  # frequency\n",
    "fs = 48000\n",
    "\n",
    "# clean sine signal -> THD_R = 0\n",
    "x_test = pf.signals.sine(frequency=f_test, n_samples=fs, amplitude=1, sampling_rate=fs)\n",
    "assert(np.isclose(thd_r(x_test, f_test), 1.5e-15)), f'Expected: 1.5e-15, Got: {thd_r(x_test, f_test)}'\n",
    "\n",
    "# clipped signal -> THD_R = 43%\n",
    "x_test = pf.signals.sine(frequency=f_test, n_samples=fs, amplitude=1000, sampling_rate=fs)\n",
    "x_test.time = np.clip(x_test.time, -1, 1)\n",
    "assert(np.isclose(thd_r(x_test, f_test), 0.434848, atol=1e-6)), f'Expected: {0.434848 : %}, Got: {thd_r(x_test, f_test) : %}'\n",
    "\n",
    "# Multi Channel (if this test fails, check that your calculations are done channel-wise)\n",
    "levels = np.array([-90, 0, 90])\n",
    "x_test = pf.signals.sine(frequency=f_test, n_samples=fs, amplitude=10**(levels/20), sampling_rate=fs)\n",
    "noise = pf.signals.noise(n_samples=fs, rms=10**(-50/20), seed=1, sampling_rate=fs)\n",
    "x_test += noise\n",
    "x_test.time = np.clip(x_test.time, -1, 1)\n",
    "assert(np.allclose(thd_r(x_test, f_test), [0.31463546, 0.00141489, 0.43484812], atol=1e-6)), f'Expected: [0.31463546, 0.00141489, 0.43484812], Got: {thd_r(x_test, f_test)}'\n",
    "del f_test, fs, levels, noise, x_test\n",
    "### END TESTS"
   ]
  },
  {
   "cell_type": "markdown",
   "metadata": {
    "deletable": false,
    "editable": false,
    "nbgrader": {
     "cell_type": "markdown",
     "checksum": "8af940202a2e79093c6cc7b2fdfdea49",
     "grade": false,
     "grade_id": "t-3-2",
     "locked": true,
     "schema_version": 3,
     "solution": false,
     "task": false
    }
   },
   "source": [
    "# 3.2 $\\mathrm{THD_F}$ (4P)\n",
    "Schreiben Sie eine Funktion `thd_f(x, f_0)`, die `pf.Signal` Objekte annimmt und für jeden Kanal den auf die Anregefrequenz bezogenen Klirrfaktor $\\mathrm{THD_{F,\\%}}$ in Prozent berechnet. Der auf die Anregefrequenz bezogene Klirrfaktor ist definiert als\n",
    "\n",
    "$$ \\text{THD}_\\mathrm{F,\\%} =  \\frac{\\sqrt{\\sum_{k=2}^{n}U_{kf}^2}}{U_{1f}} \\cdot 100\\, \\%.$$\n",
    "\n",
    "$U_{kf}$: Effektive (rms) Spannung beim $k$-fachen der Anregefrequenz $f$ ($k$-te Harmonische) <br />\n",
    "\n",
    "Dabei sollen alle $n$ Harmonischen benutzt werden, die unterhalb der Nyquist-Frequenz $f_\\mathrm{s}/2$ liegen.\n",
    "Mit der in der Funktion definierten Eingangsvariable `f_0` ist die Anregefrequenz $f$ gemeint.\n",
    "\n",
    "Gehen Sie wie folgt vor:\n",
    "\n",
    "1. Setzen Sie die `fft_norm` von `x` auf rms-Normalisierung.\n",
    "\n",
    "2. Bestimmen Sie die Frequenzen aller Harmonischen, die kleiner als die Nyquistfrequenz $f_\\mathrm{s}/2$ sind. Benutzen Sie z.B. `np.arange()`.\n",
    "\n",
    "3. Bestimmen Sie die Indizes der Frequenzbins von `x`, die den Frequenzen der Harmonischen entsprechen. Benutzen Sie z.B. `x.find_nearest_frequency()`.\n",
    "\n",
    "4. Berechnen Sie kanalweise die **Beträge** der rms-Amplituden an den Frequenzstützstellen, die den Harmonischen entsprechen (benutzen Sie `x.freq[...]`  mit den korrekten Indizes). **Hinweis:** In `x.freq` ist das komplexe Spektrum mit Phaseninformationen gespeichert. Für die rms-Amplituden ist nur der Betrag relevant.\n",
    "\n",
    "5. Berechnen Sie kanalweise den Betrag der rms-Amplitude an der Frequenzstützstelle, die der Fundamentalen entspricht (benutzen Sie `x.freq[...]`  mit den korrekten Indizes).\n",
    "\n",
    "6. Berechnen Sie kanalweise den Klirrfaktor $\\mathrm{THD_F}$ und speichern Sie die Werte in der Variable `thd_f`.\n",
    "\n",
    "**Hinweis:** Benutzen Sie für die kanalweise Berechnung bitte **keine** for-Schleifen. Die benötigten Pyfar-Funktionen funktionieren automatisch kanalweise. Die kanalweise Summierung der Spannungen der Harmonischen können Sie z.B. mit `np.sum(...,axis=...)` erledigen."
   ]
  },
  {
   "cell_type": "code",
   "execution_count": null,
   "metadata": {
    "deletable": false,
    "nbgrader": {
     "cell_type": "code",
     "checksum": "fb0715cd4a802a685f2dc81906955271",
     "grade": false,
     "grade_id": "t-3-2-solution",
     "locked": false,
     "schema_version": 3,
     "solution": true,
     "task": false
    }
   },
   "outputs": [],
   "source": [
    "def thd_f(x: pf.Signal, f_0: float):\n",
    "    # fft norm von x auf 'rms' setzen:\n",
    "    # ============= Ihre Lösung hier ===============\n",
    "    raise NotImplementedError('Diese Zeile Löschen')\n",
    "    # ==============================================\n",
    "\n",
    "    # Frequenzen aller harmonischen, die kleiner als Nyquistfrequenz sind:\n",
    "    # ============= Ihre Lösung hier ===============\n",
    "    raise NotImplementedError('Diese Zeile Löschen')\n",
    "    # ==============================================\n",
    "\n",
    "    # Indizes der Frequenzbins der Harmonischen:\n",
    "    # ============= Ihre Lösung hier ===============\n",
    "    raise NotImplementedError('Diese Zeile Löschen')\n",
    "    # ==============================================\n",
    "\n",
    "    # Beträge der rms-Amplituden der Harmonischen (NICHT in dB):\n",
    "    # ============= Ihre Lösung hier ===============\n",
    "    raise NotImplementedError('Diese Zeile Löschen')\n",
    "    # ==============================================\n",
    "\n",
    "    # Betrag der rms-Amplitude der Fundamentalen (NICHT in dB):\n",
    "    # ============= Ihre Lösung hier ===============\n",
    "    raise NotImplementedError('Diese Zeile Löschen')\n",
    "    # ==============================================\n",
    "\n",
    "    # THD_F berechnen und in Variable thd_f speichern:\n",
    "    # ============= Ihre Lösung hier ===============\n",
    "    raise NotImplementedError('Diese Zeile Löschen')\n",
    "    # ==============================================\n",
    "\n",
    "    if thd_f.shape == (1,):\n",
    "        # Falls nur ein Wert berechnet wird, Skalarwert thd_f statt array([thd_f]) zurückgeben\n",
    "        return thd_f.item()\n",
    "    return thd_f  # thd_f Werte zurückgeben"
   ]
  },
  {
   "cell_type": "code",
   "execution_count": null,
   "metadata": {
    "deletable": false,
    "editable": false,
    "nbgrader": {
     "cell_type": "code",
     "checksum": "fbc825cef2bf3566c3722f2bf76dbffa",
     "grade": true,
     "grade_id": "t-3-2-tests",
     "locked": false,
     "points": 3,
     "schema_version": 3,
     "solution": false,
     "task": false
    }
   },
   "outputs": [],
   "source": [
    "# Diese Zelle bitte NICHT verändern\n",
    "### BEGIN TESTS\n",
    "assert not contains_for_loop(inspect.getsource(thd_f)), \"The function contains a for loop, which is not allowed.\"\n",
    "\n",
    "f_test = 10  # frequency\n",
    "fs = 48000\n",
    "\n",
    "# clean sine signal -> THD_f = 0\n",
    "x_test = pf.signals.sine(frequency=f_test, n_samples=fs, amplitude=1, sampling_rate=fs)\n",
    "assert(np.isclose(thd_f(x_test, f_test), 1.5e-15)), f'Expected: 1.5e-15, got: {thd_f(x_test, f_test)}'\n",
    "\n",
    "# clipped signal -> THD_f = 48%\n",
    "x_test = pf.signals.sine(frequency=f_test, n_samples=fs, amplitude=1000, sampling_rate=fs)\n",
    "x_test.time = np.clip(x_test.time, -1, 1)\n",
    "assert(np.isclose(thd_f(x_test, f_test), 0.482894, atol=1e-6)), f'Expected: {0.482894 : %}, got: {thd_f(x_test, f_test) : %}'\n",
    "\n",
    "# Multi Channel (if only this test fails, check that your calculations are done channel-wise)\n",
    "levels = np.array([-90, 0, 90])\n",
    "x_test = pf.signals.sine(frequency=f_test, n_samples=fs, amplitude=10**(levels/20), sampling_rate=fs)\n",
    "noise = pf.signals.noise(n_samples=fs, rms=10**(-50/20), seed=1, sampling_rate=fs)\n",
    "x_test += noise\n",
    "x_test.time = np.clip(x_test.time, -1, 1)\n",
    "assert(np.allclose(thd_f(x_test, f_test), [32.408217,  0.001415,  0.482894], atol=1e-6)), f'Expected: [32.408217,  0.001415,  0.482894], got: {thd_f(x_test, f_test)}'\n",
    "del f_test, fs, levels, noise, x_test\n",
    "### END TESTS"
   ]
  },
  {
   "cell_type": "markdown",
   "metadata": {
    "deletable": false,
    "editable": false,
    "nbgrader": {
     "cell_type": "markdown",
     "checksum": "375cba55df90539f95f4933ec72a92d3",
     "grade": false,
     "grade_id": "t-3-3",
     "locked": true,
     "schema_version": 3,
     "solution": false,
     "task": false
    }
   },
   "source": [
    "# 3.3 $\\text{THD+N}$ (3P)\n",
    "Um nicht nur Verzerrungen bei ganzzahligen Vielfachen der Anregefrequenz, sondern auch alle anderen nichtlinearen Verzerrungen und Rauschen zu quantifizieren, soll nun eine Funktion `thd_n(x, f_0, Q=5)` geschrieben werden, welche `pf.Signal` Objekte annimmt und für jeden Kanal die Total Harmonic Distortion and Noise (THD+N) berechnet. THD+N ist nach [AES17](https://www.aes.org/publications/standards/search.cfm?docID=21) definiert als\n",
    "\n",
    "$$ \\text{THD+N}_\\mathrm{\\%} = \\frac{U_{\\text{Notch@}f_0}}{U_\\text{ges}} $$\n",
    "\n",
    "$U_{\\text{Notch@}f_0}$: Effektive (**rms**) Spannung des Signals, bei dem die Anregefrequenz $f_0$ mit einem Notch-Filter herausgefiltert wurde <br />\n",
    "$U_\\mathrm{ges}$: Effektive (**rms**) Spannung des ungefilterten Gesamtsignals\n",
    "\n",
    "Gehen Sie wie folgt vor:\n",
    "\n",
    "1. Filtern Sie das Signal mit einem Notch-Filter `pf.dsp.filter.notch()` bei der Frequenz `f_0` mit Q-Faktor `Q`. Speichern Sie das gefilterte Signal in der Variable `x_filtered`.\n",
    "\n",
    "2. Wenden Sie (wie in Aufgabe 1.15) Hann-Fensterung auf das gefilterte sowie auf das ungefilterte Signal an. Dabei soll die Fensterlänge genau der Signallänge entsprechen.\n",
    "\n",
    "3. Berechnen Sie kanalweise die THD+N nach der oben definierten Formel. Speichern Sie das Ergebnis in der Variable `thd_n`. Hier dürfen Sie die Funktion `pf.dsp.rms()` benutzen.\n",
    "\n",
    "**Hinweis:** Benutzen Sie für die kanalweise Berechnung **keine** for-Schleifen. Die benötigten Pyfar-Funktionen arbeiten automatisch kanalweise.\n",
    "\n",
    "Wenn Ihre pyfar-Version keine Notch-Filter unterstützt, aktualisieren Sie das Paket (im Terminal oder Anaconda Prompt den Befehl `pip install pyfar --upgrade` eingeben). "
   ]
  },
  {
   "cell_type": "code",
   "execution_count": null,
   "metadata": {
    "deletable": false,
    "nbgrader": {
     "cell_type": "code",
     "checksum": "7f320883a9a4b0d440fcccd5cc473cef",
     "grade": false,
     "grade_id": "t-3-3-solution",
     "locked": false,
     "schema_version": 3,
     "solution": true,
     "task": false
    }
   },
   "outputs": [],
   "source": [
    "def thd_n(x: pf.Signal, f_0: float, Q=5):\n",
    "    # Signal mit Notch-Filter filtern und in Variable x_filtered speichern:\n",
    "    # ============= Ihre Lösung hier ===============\n",
    "    raise NotImplementedError('Diese Zeile Löschen')\n",
    "    # ==============================================\n",
    "\n",
    "    # Hann-Fenster auf ungefiltertes und gefiltertes Signal anwenden:\n",
    "    # ============= Ihre Lösung hier ===============\n",
    "    raise NotImplementedError('Diese Zeile Löschen')\n",
    "    # ==============================================\n",
    "\n",
    "    # THD+N berechnen und in der Variable thd_n speichern::\n",
    "    # ============= Ihre Lösung hier ===============\n",
    "    raise NotImplementedError('Diese Zeile Löschen')\n",
    "    # ==============================================\n",
    "\n",
    "    if thd_n.shape == (1,):\n",
    "        # Falls nur ein Wert berechnet wird, Skalarwert thd_n statt array([thd_n]) zurückgeben\n",
    "        return thd_n.item()\n",
    "    return thd_n  # thd_n Werte zurückgeben"
   ]
  },
  {
   "cell_type": "code",
   "execution_count": null,
   "metadata": {
    "deletable": false,
    "editable": false,
    "nbgrader": {
     "cell_type": "code",
     "checksum": "92093701afce8216cd59c3b3c92553d6",
     "grade": true,
     "grade_id": "t-3-3-tests",
     "locked": false,
     "points": 3,
     "schema_version": 3,
     "solution": false,
     "task": false
    }
   },
   "outputs": [],
   "source": [
    "# Diese Zelle bitte NICHT verändern\n",
    "### BEGIN TESTS\n",
    "assert not contains_for_loop(inspect.getsource(thd_n)), \"The function contains a for loop, which is not allowed.\"\n",
    "\n",
    "f_test = 1000  # frequency\n",
    "fs = 48000\n",
    "\n",
    "# clean sine signal -> THD+N = 0%\n",
    "x_test = pf.signals.sine(frequency=f_test, n_samples=2*fs, amplitude=1, sampling_rate=fs)\n",
    "assert(np.isclose(thd_n(x_test, f_test), 0, atol=1e-6)), f'Expected value near 0, Got: {thd_n(x_test, f_test)}'\n",
    "\n",
    "# clipped signal -> THD+N = 39.5%\n",
    "x_test = pf.signals.sine(frequency=f_test, n_samples=fs, amplitude=1000, sampling_rate=fs)\n",
    "x_test.time = np.clip(x_test.time, -1, 1)\n",
    "assert(np.isclose(thd_n(x_test, f_test), 0.395013, atol=1e-6)), f'Expected: {0.395013 : %}, Got: {thd_n(x_test, f_test) : %}'\n",
    "\n",
    "# Multi Channel (if only this test fails, check that your calculations are done channel-wise)\n",
    "levels = np.array([-90, 0, 90])\n",
    "x_test = pf.signals.sine(frequency=f_test, n_samples=fs, amplitude=10**(levels/20), sampling_rate=fs)\n",
    "noise = pf.signals.noise(n_samples=fs, rms=10**(-50/20), seed=1, sampling_rate=fs)\n",
    "x_test += noise\n",
    "x_test.time = np.clip(x_test.time, -1, 1)\n",
    "assert(np.allclose(thd_n(x_test, f_test), [0.992724, 0.004358, 0.395014], atol=1e-6)), f'Expected: [0.992724, 0.004358, 0.395014], Got: {thd_n(x_test, f_test)}'\n",
    "del f_test, fs, levels, noise, x_test\n",
    "### END TESTS"
   ]
  },
  {
   "cell_type": "markdown",
   "metadata": {
    "deletable": false,
    "editable": false,
    "nbgrader": {
     "cell_type": "markdown",
     "checksum": "95a355c61735896eb410c5de8fe1e80d",
     "grade": false,
     "grade_id": "t-3-4",
     "locked": true,
     "schema_version": 3,
     "solution": false,
     "task": false
    }
   },
   "source": [
    "# 3.4 $ \\text{THD(+N)}$  vs Amplitude (3P)\n",
    "Nun sollen die unterschiedlichen Berechnungsmethoden anhand von synthetischen Daten verglichen werden.\n",
    "Dazu wurden Sinustöne bei der Frequenz `f_0` bei verschiedenen Amplituden erzeugt und dann mit einem nichtlinearen, digitalen System bearbeitet.\n",
    "\n",
    "Die Datei `THD_vs_amplitude.far` enthält die Anregesignale `system_input`, die Systemantworten `system_output`, die Anregefrequenz `f_0`, die Amplituden `amplitudes` (digitale Amplitudenwerte ohne Einheit) und die entsprechenden Pegel `levels` in dBFS.\n",
    "\n",
    "In den `pf.Signal`-Objekten `system_input` und `system_output` sind die Signale jeweils einer Amplitude in einem eigenen Kanal gespeichert. So enthält z.B. der Kanal `system_input[i]` einen Sinuston mit der in `amplitudes[i]` gespeicherten Amplitude, und der Kanal `system_output[i]` die entsprechende Systemantwort.\n",
    "\n",
    "Gehen Sie wie folgt vor:\n",
    "\n",
    "1. Laden Sie mit `pf.io.read()` die Datei `THD_vs_amplitude.far` in die Variable `measurement`. Die Variable enthält nun ein Python-Dictionary, das die oben genannten Objekte enthält. Geben Sie sich die Namen der Variablen mit `measurement.keys()` aus.\n",
    "\n",
    "2. Speichern Sie die **effektiven** Anregepegel in der Variable `levels`, die Anregungsfrequenz in der Variable `f_0` und die Systemantworten in der Variable `system_output`. Verifizieren Sie, dass das Objekt `system_output` genau so viele Kanäle wie das Array `levels` Einträge hat.\n",
    "\n",
    "3. Berechnen Sie die kanalweise $\\mathrm{THD_{R, dB}}$, $\\mathrm{THD_{F, dB}}$ und $\\text{THD+N}_\\mathrm{dB}$ von `system_output` (Umrechnung in dB siehe Einführungsveranstaltung) und speichern Sie die Werte in den Variablen `system_output_thd_r`, `system_output_thd_f` und `system_output_thd_n`.\n",
    "   Benutzen Sie dazu Ihre vorher definierten Funktionen. \n",
    "   Verifizieren Sie, dass die Dimensionen der berechneten Werte den Dimensionen von `levels` entsprechen.\n",
    "   Benutzen Sie für die Berechnung von $\\text{THD+N}_\\mathrm{dB}$ den Standardwert für den Gütefaktor `Q`.\n",
    "\n",
    "4. Stellen Sie in einem gemeinsamen Plot $\\mathrm{THD_{R, dB}}$, $\\mathrm{THD_{F, dB}}$ und $\\text{THD+N}_\\mathrm{dB}$ der Systemantworten, jeweils aufgetragen über dem Anregepegel in dBFS, dar. Fügen Sie eine Legende hinzu und achten Sie auf korrekte Achsenbeschriftungen."
   ]
  },
  {
   "cell_type": "code",
   "execution_count": null,
   "metadata": {
    "deletable": false,
    "nbgrader": {
     "cell_type": "code",
     "checksum": "6875121b5bcb210b26f9a0dcc7794f2e",
     "grade": true,
     "grade_id": "t-3-4-solution",
     "locked": false,
     "points": 2,
     "schema_version": 3,
     "solution": true,
     "task": false
    }
   },
   "outputs": [],
   "source": [
    "# 1.\n",
    "# ============= Ihre Lösung hier ===============\n",
    "raise NotImplementedError('Diese Zeile Löschen')\n",
    "# ==============================================\n",
    "\n",
    "# 2.\n",
    "# ============= Ihre Lösung hier ===============\n",
    "raise NotImplementedError('Diese Zeile Löschen')\n",
    "# ==============================================\n",
    "\n",
    "# 3.\n",
    "# ============= Ihre Lösung hier ===============\n",
    "raise NotImplementedError('Diese Zeile Löschen')\n",
    "# ==============================================\n",
    "\n",
    "# 4.\n",
    "# ============= Ihre Lösung hier ===============\n",
    "raise NotImplementedError('Diese Zeile Löschen')\n",
    "# =============================================="
   ]
  },
  {
   "cell_type": "code",
   "execution_count": null,
   "metadata": {
    "deletable": false,
    "editable": false,
    "nbgrader": {
     "cell_type": "code",
     "checksum": "9e759342da00efb5e191b0a90367d34b",
     "grade": true,
     "grade_id": "t-3-4-tests",
     "locked": true,
     "points": 1,
     "schema_version": 3,
     "solution": false,
     "task": false
    }
   },
   "outputs": [],
   "source": [
    "# Diese Zelle bitte NICHT verändern\n",
    "### BEGIN TESTS\n",
    "assert system_output_thd_r.shape == system_output.cshape, f'Expected: {system_output.cshape}, Got: {system_output_thd_r.shape}'\n",
    "assert system_output_thd_f.shape == system_output.cshape, f'Expected: {system_output.cshape}, Got: {system_output_thd_f.shape}'\n",
    "assert system_output_thd_n.shape == system_output.cshape, f'Expected: {system_output.cshape}, Got: {system_output_thd_n.shape}'\n",
    "\n",
    "assert np.allclose(system_output_thd_r[::5], [-24.473838,  -25.559581, -42.518391, -51.464693,  -9.452983],atol=1e-6)\n",
    "assert np.allclose(system_output_thd_f[::5], [   8.331340, -17.522054, -42.431360, -51.464384,  -8.930134],atol=1e-6)\n",
    "assert np.allclose(system_output_thd_n[::5], [  -0.167544,  -1.023732, -16.450333, -41.565004,  -9.471665],atol=1e-6)\n",
    "### END TESTS"
   ]
  },
  {
   "cell_type": "markdown",
   "metadata": {
    "deletable": false,
    "nbgrader": {
     "cell_type": "markdown",
     "checksum": "e277c58c05aa2fb6e72d55f6d88c229b",
     "grade": true,
     "grade_id": "t-3-4-2",
     "locked": false,
     "points": 2,
     "schema_version": 3,
     "solution": true,
     "task": false
    }
   },
   "source": [
    "# 3.5 Verständnisfragen (5P)\n",
    "\n",
    "Beschreiben und erklären Sie (kurz) die Verläufe von $\\mathrm{THD_F}$, $\\mathrm{THD_R}$ und $\\text{THD+N}$. (2P)\n",
    "\n",
    "---\n",
    "_Ihre Lösung hier:_\n",
    "\n",
    "\n",
    "---\n"
   ]
  },
  {
   "cell_type": "markdown",
   "metadata": {
    "deletable": false,
    "nbgrader": {
     "cell_type": "markdown",
     "checksum": "6cc62caeb6c3eb83440b949716b595dd",
     "grade": true,
     "grade_id": "t-3-4-3",
     "locked": false,
     "points": 1,
     "schema_version": 3,
     "solution": true,
     "task": false
    }
   },
   "source": [
    "Warum konnte der Fensterungs-Korrekturfaktor bei der Berechnung von $\\text{THD+N}$ vernachlässigt werden? (1P)\n",
    "\n",
    "---\n",
    "_Ihre Lösung hier:_\n",
    "\n",
    "\n",
    "---"
   ]
  },
  {
   "cell_type": "markdown",
   "metadata": {
    "deletable": false,
    "nbgrader": {
     "cell_type": "markdown",
     "checksum": "8a036f8702b7be61c858ce0eeed01981",
     "grade": true,
     "grade_id": "t-3-4-4",
     "locked": false,
     "points": 1,
     "schema_version": 3,
     "solution": true,
     "task": false
    }
   },
   "source": [
    "Kann $\\mathrm{THD_{R}}$ für ein Signal größer sein als $\\text{THD+N}$? Begründen Sie Ihre Antwort. (1P)\n",
    "\n",
    "---\n",
    "_Ihre Lösung hier:_\n",
    "\n",
    "\n",
    "---"
   ]
  },
  {
   "cell_type": "markdown",
   "metadata": {
    "deletable": false,
    "nbgrader": {
     "cell_type": "markdown",
     "checksum": "2a8c3e2e78f7c4c61e4bf6e05ab5d528",
     "grade": true,
     "grade_id": "t-3-4-5",
     "locked": false,
     "points": 1,
     "schema_version": 3,
     "solution": true,
     "task": false
    }
   },
   "source": [
    "Welche der Berechnungsverfahren können Werte größer als 100% (bzw. 0 dB) liefern? Begründen Sie Ihre Antwort. (1P)\n",
    "\n",
    "---\n",
    "_Ihre Lösung hier:_\n",
    "\n",
    "\n",
    "---"
   ]
  },
  {
   "cell_type": "markdown",
   "metadata": {
    "deletable": false,
    "editable": false,
    "nbgrader": {
     "cell_type": "markdown",
     "checksum": "297bb5df841bd1d0f81b4c57c9ea8c38",
     "grade": false,
     "grade_id": "t-3-5",
     "locked": true,
     "schema_version": 3,
     "solution": false,
     "task": false
    }
   },
   "source": [
    "# 3.6 Betriebskurve (4P)\n",
    "\n",
    "Stellen Sie in einem Plot die rms-Pegel von `system_out` in dBFS über dem rms-Anregepegel in dBFS dar. Benutzen Sie die Funktion `pf.dsp.rms()`. Achten Sie auf korrekte Achsenbeschriftungen. (1P)\n",
    "\n",
    "Stellen Sie in einem zweiten Plot die Zeitsignale aller Kanäle von `system_out` im Zeitintervall $[0\\,\\mathrm{ms}, 1\\,\\mathrm{ms}]$ dar. (1P)\n",
    "\n",
    "**Tipp:** Die Zeiteinheit eines `pf.plot.time()`-Plots kann mit dem Parameter `unit` eingestellt werden."
   ]
  },
  {
   "cell_type": "code",
   "execution_count": null,
   "metadata": {
    "deletable": false,
    "nbgrader": {
     "cell_type": "code",
     "checksum": "0033467b3b9df5111365f1d67aeb1de6",
     "grade": true,
     "grade_id": "t-3-5-solution",
     "locked": false,
     "points": 2,
     "schema_version": 3,
     "solution": true,
     "task": false
    }
   },
   "outputs": [],
   "source": [
    "# rms-Pegel vs Anregepegel:\n",
    "# ============= Ihre Lösung hier ===============\n",
    "raise NotImplementedError('Diese Zeile Löschen')\n",
    "# ==============================================\n",
    "\n",
    "# Zeitsignale:\n",
    "# ============= Ihre Lösung hier ===============\n",
    "raise NotImplementedError('Diese Zeile Löschen')\n",
    "# ==============================================\n"
   ]
  },
  {
   "cell_type": "markdown",
   "metadata": {
    "deletable": false,
    "nbgrader": {
     "cell_type": "markdown",
     "checksum": "5a9d8ece8696e4e97ab0dc0ab2a50aec",
     "grade": true,
     "grade_id": "t-3-5-2-solution",
     "locked": false,
     "points": 2,
     "schema_version": 3,
     "solution": true,
     "task": false
    }
   },
   "source": [
    "### Verständnisfragen (2P):\n",
    "Beschreiben Sie die beiden Abbildungen. Welchen Pegel in dBFS hat das (unbewertete) Grundrauschen des Systems etwa? Um welche Art von Effekt könnte es sich bei dem zu untersuchenden System handeln? Begründen Sie Ihre Antwort.\n",
    "\n",
    "---\n",
    "_Ihre Lösung hier:_\n",
    "\n",
    "\n",
    "---"
   ]
  }
 ],
 "metadata": {
  "language_info": {
   "codemirror_mode": {
    "name": "ipython"
   },
   "file_extension": ".py",
   "mimetype": "text/x-python",
   "name": "python",
   "nbconvert_exporter": "python"
  }
 },
 "nbformat": 4,
 "nbformat_minor": 4
}
